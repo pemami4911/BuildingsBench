{
 "cells": [
  {
   "cell_type": "code",
   "execution_count": 2,
   "metadata": {},
   "outputs": [],
   "source": [
    "import pandas as pd\n",
    "\n",
    "lookup_df = pd.read_csv('../../spatial_tract_lookup_table.csv')\n",
    "county = lookup_df['nhgis_2010_county_gisjoin']"
   ]
  },
  {
   "cell_type": "code",
   "execution_count": 3,
   "metadata": {},
   "outputs": [],
   "source": [
    "import numpy as np\n",
    "county_list = np.unique(county)"
   ]
  },
  {
   "cell_type": "code",
   "execution_count": 4,
   "metadata": {},
   "outputs": [
    {
     "data": {
      "text/plain": [
       "True"
      ]
     },
     "execution_count": 4,
     "metadata": {},
     "output_type": "execute_result"
    }
   ],
   "source": [
    "'G1500050' in county_list"
   ]
  },
  {
   "cell_type": "code",
   "execution_count": 7,
   "metadata": {},
   "outputs": [
    {
     "data": {
      "text/html": [
       "<div>\n",
       "<style scoped>\n",
       "    .dataframe tbody tr th:only-of-type {\n",
       "        vertical-align: middle;\n",
       "    }\n",
       "\n",
       "    .dataframe tbody tr th {\n",
       "        vertical-align: top;\n",
       "    }\n",
       "\n",
       "    .dataframe thead th {\n",
       "        text-align: right;\n",
       "    }\n",
       "</style>\n",
       "<table border=\"1\" class=\"dataframe\">\n",
       "  <thead>\n",
       "    <tr style=\"text-align: right;\">\n",
       "      <th></th>\n",
       "      <th>nhgis_2010_county_gisjoin</th>\n",
       "      <th>nhgis_2010_puma_gisjoin</th>\n",
       "    </tr>\n",
       "  </thead>\n",
       "  <tbody>\n",
       "    <tr>\n",
       "      <th>0</th>\n",
       "      <td>G0100010</td>\n",
       "      <td>G01002100</td>\n",
       "    </tr>\n",
       "    <tr>\n",
       "      <th>1</th>\n",
       "      <td>G0100010</td>\n",
       "      <td>G01002100</td>\n",
       "    </tr>\n",
       "    <tr>\n",
       "      <th>2</th>\n",
       "      <td>G0100010</td>\n",
       "      <td>G01002100</td>\n",
       "    </tr>\n",
       "    <tr>\n",
       "      <th>3</th>\n",
       "      <td>G0100010</td>\n",
       "      <td>G01002100</td>\n",
       "    </tr>\n",
       "    <tr>\n",
       "      <th>4</th>\n",
       "      <td>G0100010</td>\n",
       "      <td>G01002100</td>\n",
       "    </tr>\n",
       "    <tr>\n",
       "      <th>...</th>\n",
       "      <td>...</td>\n",
       "      <td>...</td>\n",
       "    </tr>\n",
       "    <tr>\n",
       "      <th>73997</th>\n",
       "      <td>G7201530</td>\n",
       "      <td>G72000401</td>\n",
       "    </tr>\n",
       "    <tr>\n",
       "      <th>73998</th>\n",
       "      <td>G7201530</td>\n",
       "      <td>G72000401</td>\n",
       "    </tr>\n",
       "    <tr>\n",
       "      <th>73999</th>\n",
       "      <td>G7201530</td>\n",
       "      <td>G72000401</td>\n",
       "    </tr>\n",
       "    <tr>\n",
       "      <th>74000</th>\n",
       "      <td>G7201530</td>\n",
       "      <td>G72000401</td>\n",
       "    </tr>\n",
       "    <tr>\n",
       "      <th>74001</th>\n",
       "      <td>G7201530</td>\n",
       "      <td>G72000401</td>\n",
       "    </tr>\n",
       "  </tbody>\n",
       "</table>\n",
       "<p>74002 rows × 2 columns</p>\n",
       "</div>"
      ],
      "text/plain": [
       "      nhgis_2010_county_gisjoin nhgis_2010_puma_gisjoin\n",
       "0                      G0100010               G01002100\n",
       "1                      G0100010               G01002100\n",
       "2                      G0100010               G01002100\n",
       "3                      G0100010               G01002100\n",
       "4                      G0100010               G01002100\n",
       "...                         ...                     ...\n",
       "73997                  G7201530               G72000401\n",
       "73998                  G7201530               G72000401\n",
       "73999                  G7201530               G72000401\n",
       "74000                  G7201530               G72000401\n",
       "74001                  G7201530               G72000401\n",
       "\n",
       "[74002 rows x 2 columns]"
      ]
     },
     "execution_count": 7,
     "metadata": {},
     "output_type": "execute_result"
    }
   ],
   "source": [
    "lookup_df[['nhgis_2010_county_gisjoin', 'nhgis_2010_puma_gisjoin']]"
   ]
  },
  {
   "cell_type": "code",
   "execution_count": 6,
   "metadata": {},
   "outputs": [
    {
     "data": {
      "text/plain": [
       "(3220,)"
      ]
     },
     "execution_count": 6,
     "metadata": {},
     "output_type": "execute_result"
    }
   ],
   "source": [
    "county_list.shape"
   ]
  },
  {
   "cell_type": "code",
   "execution_count": 7,
   "metadata": {},
   "outputs": [],
   "source": [
    "from pathlib import Path\n",
    "import requests\n",
    "\n",
    "def url_retrieve(url: str, outfile: Path):\n",
    "    R = requests.get(url, allow_redirects=True)\n",
    "    if R.status_code != 200:\n",
    "        return\n",
    "\n",
    "    outfile.write_bytes(R.content)"
   ]
  },
  {
   "cell_type": "code",
   "execution_count": 9,
   "metadata": {},
   "outputs": [],
   "source": [
    "output_dir = '/data/local/projects/foundation/v1.1.0/BuildingsBench/Buildings-900K/end-use-load-profiles-for-us-building-stock/2021/comstock_amy2018_release_1/weather/'\n",
    "for ct in county_list:\n",
    "    url_retrieve(f'https://oedi-data-lake.s3.amazonaws.com/nrel-pds-building-stock/end-use-load-profiles-for-us-building-stock/2021/comstock_amy2018_release_1/weather/amy2018/{ct}_2018.csv', Path(f'{output_dir}/{ct}.csv'))"
   ]
  },
  {
   "cell_type": "code",
   "execution_count": null,
   "metadata": {},
   "outputs": [],
   "source": [
    "output_dir = '/data/local/projects/foundation/v1.1.0/BuildingsBench/Buildings-900K/end-use-load-profiles-for-us-building-stock/2021/comstock_tmy3_release_1/weather/'\n",
    "for ct in county_list:\n",
    "    url_retrieve(f'https://oedi-data-lake.s3.amazonaws.com/nrel-pds-building-stock/end-use-load-profiles-for-us-building-stock/2021/comstock_tmy3_release_1/weather/tmy3/{ct}_tmy3.csv', Path(f'{output_dir}/{ct}.csv'))"
   ]
  },
  {
   "cell_type": "code",
   "execution_count": null,
   "metadata": {},
   "outputs": [],
   "source": [
    "output_dir = '/data/local/projects/foundation/v1.1.0/BuildingsBench/Buildings-900K/end-use-load-profiles-for-us-building-stock/2021/resstock_amy2018_release_1/weather/'\n",
    "for ct in county_list:\n",
    "    url_retrieve(f'https://oedi-data-lake.s3.amazonaws.com/nrel-pds-building-stock/end-use-load-profiles-for-us-building-stock/2021/resstock_amy2018_release_1/weather/amy2018/{ct}_2018.csv', Path(f'{output_dir}/{ct}.csv'))"
   ]
  },
  {
   "cell_type": "code",
   "execution_count": null,
   "metadata": {},
   "outputs": [],
   "source": [
    "output_dir = '/data/local/projects/foundation/v1.1.0/BuildingsBench/Buildings-900K/end-use-load-profiles-for-us-building-stock/2021/resstock_tmy3_release_1/weather/'\n",
    "for ct in county_list:\n",
    "    url_retrieve(f'https://oedi-data-lake.s3.amazonaws.com/nrel-pds-building-stock/end-use-load-profiles-for-us-building-stock/2021/resstock_tmy3_release_1/weather/tmy3/{ct}_tmy3.csv', Path(f'{output_dir}/{ct}.csv'))"
   ]
  },
  {
   "cell_type": "code",
   "execution_count": null,
   "metadata": {},
   "outputs": [],
   "source": []
  }
 ],
 "metadata": {
  "kernelspec": {
   "display_name": "buildings_bench",
   "language": "python",
   "name": "python3"
  },
  "language_info": {
   "codemirror_mode": {
    "name": "ipython",
    "version": 3
   },
   "file_extension": ".py",
   "mimetype": "text/x-python",
   "name": "python",
   "nbconvert_exporter": "python",
   "pygments_lexer": "ipython3",
   "version": "3.8.17"
  },
  "orig_nbformat": 4
 },
 "nbformat": 4,
 "nbformat_minor": 2
}
