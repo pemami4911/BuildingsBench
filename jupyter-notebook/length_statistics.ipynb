{
 "cells": [
  {
   "cell_type": "code",
   "execution_count": 1,
   "id": "11f9a81b-48a7-49da-aacb-09b368828550",
   "metadata": {},
   "outputs": [],
   "source": [
    "from transformers import BertTokenizer, BertModel\n",
    "tokenizer = BertTokenizer.from_pretrained('bert-base-uncased')\n",
    "model = BertModel.from_pretrained(\"bert-base-uncased\")"
   ]
  },
  {
   "cell_type": "code",
   "execution_count": 1,
   "id": "1c1ad8c9-f4cc-4aa9-96a3-c536d38f4253",
   "metadata": {},
   "outputs": [],
   "source": [
    "import pandas as pd\n",
    "from pathlib import Path\n",
    "import os\n",
    "import random\n",
    "import numpy as np\n",
    "import glob\n",
    "\n",
    "metadata_path = Path(os.environ.get('BUILDINGS_BENCH', ''), 'metadata_dev')"
   ]
  },
  {
   "cell_type": "code",
   "execution_count": 2,
   "id": "f0bf4afb-b871-41e6-a5b7-8399fece64e6",
   "metadata": {},
   "outputs": [],
   "source": [
    "short_files = np.array(os.listdir(metadata_path / \"AttributeCaps\" / \"short\"))\n",
    "medium_files = np.array(os.listdir(metadata_path / \"AttributeCaps\" / \"medium\"))\n",
    "long_files = np.array(os.listdir(metadata_path / \"AttributeCaps\" / \"long\"))"
   ]
  },
  {
   "cell_type": "code",
   "execution_count": 7,
   "id": "2bbf910b-1e04-4837-88da-55e5bc817936",
   "metadata": {},
   "outputs": [],
   "source": [
    "files = short_files[np.isin(short_files, medium_files)]"
   ]
  },
  {
   "cell_type": "code",
   "execution_count": 8,
   "id": "f6137046-0269-4b04-b5ed-2fc0c46ff3b2",
   "metadata": {},
   "outputs": [],
   "source": [
    "files = files[np.isin(files, long_files)]"
   ]
  },
  {
   "cell_type": "code",
   "execution_count": 9,
   "id": "2503f700-0352-4492-8505-2614b0eea225",
   "metadata": {},
   "outputs": [
    {
     "ename": "ValueError",
     "evalue": "Cannot take a larger sample than population when 'replace=False'",
     "output_type": "error",
     "traceback": [
      "\u001b[0;31m---------------------------------------------------------------------------\u001b[0m",
      "\u001b[0;31mValueError\u001b[0m                                Traceback (most recent call last)",
      "Cell \u001b[0;32mIn[9], line 1\u001b[0m\n\u001b[0;32m----> 1\u001b[0m files \u001b[38;5;241m=\u001b[39m \u001b[43mnp\u001b[49m\u001b[38;5;241;43m.\u001b[39;49m\u001b[43mrandom\u001b[49m\u001b[38;5;241;43m.\u001b[39;49m\u001b[43mchoice\u001b[49m\u001b[43m(\u001b[49m\u001b[43mfiles\u001b[49m\u001b[43m,\u001b[49m\u001b[43m \u001b[49m\u001b[43msize\u001b[49m\u001b[38;5;241;43m=\u001b[39;49m\u001b[38;5;241;43m5000\u001b[39;49m\u001b[43m,\u001b[49m\u001b[43m \u001b[49m\u001b[43mreplace\u001b[49m\u001b[38;5;241;43m=\u001b[39;49m\u001b[38;5;28;43;01mFalse\u001b[39;49;00m\u001b[43m)\u001b[49m\n",
      "File \u001b[0;32mmtrand.pyx:965\u001b[0m, in \u001b[0;36mnumpy.random.mtrand.RandomState.choice\u001b[0;34m()\u001b[0m\n",
      "\u001b[0;31mValueError\u001b[0m: Cannot take a larger sample than population when 'replace=False'"
     ]
    }
   ],
   "source": [
    "# files = np.random.choice(files, size=5000, replace=False)"
   ]
  },
  {
   "cell_type": "code",
   "execution_count": 11,
   "id": "88959829-3f4f-4af8-b702-be53d5b01612",
   "metadata": {},
   "outputs": [
    {
     "data": {
      "text/plain": [
       "4989"
      ]
     },
     "execution_count": 11,
     "metadata": {},
     "output_type": "execute_result"
    }
   ],
   "source": [
    "len(files)"
   ]
  },
  {
   "cell_type": "code",
   "execution_count": 12,
   "id": "19641db1-6b2c-458e-922c-61a3eb22a2a7",
   "metadata": {},
   "outputs": [],
   "source": [
    "lengths = {\n",
    "    \"short\": [],\n",
    "    \"medium\": [],\n",
    "    \"long\": []\n",
    "}\n",
    "\n",
    "for f in files:\n",
    "    for l in [\"short\", \"medium\", \"long\"]:\n",
    "        path = metadata_path / \"AttributeCaps\" / l / f\n",
    "        with open(path, \"r\") as f_:\n",
    "            text = f_.read()\n",
    "        # tokens = tokenizer(text, return_tensors='pt') \n",
    "        # lengths[l].append(tokens[\"input_ids\"].size(1))\n",
    "        lengths[l].append(len(text))"
   ]
  },
  {
   "cell_type": "code",
   "execution_count": 13,
   "id": "021da929-ba55-4ac9-ada9-b798e0c9c270",
   "metadata": {},
   "outputs": [
    {
     "data": {
      "image/png": "[encoded data removed]",
      "text/plain": [
       "<Figure size 640x480 with 1 Axes>"
      ]
     },
     "metadata": {},
     "output_type": "display_data"
    }
   ],
   "source": [
    "import matplotlib.pyplot as plt\n",
    "\n",
    "bins = np.linspace(50, 2000, 100)\n",
    "\n",
    "plt.hist(lengths[\"short\"], bins=bins, alpha=0.3, label=\"short\")\n",
    "plt.hist(lengths[\"medium\"], bins=bins, alpha=0.3, label=\"medium\")\n",
    "plt.hist(lengths[\"long\"], bins=bins, alpha=0.3, label=\"long\")\n",
    "plt.legend()\n",
    "plt.xlabel(\"number of tokens\")\n",
    "plt.ylabel(\"number of samples\")\n",
    "plt.show()"
   ]
  },
  {
   "cell_type": "code",
   "execution_count": null,
   "id": "bf259055-7329-4db8-a8b1-0578c7569e84",
   "metadata": {},
   "outputs": [],
   "source": []
  }
 ],
 "metadata": {
  "kernelspec": {
   "display_name": "Python 3 (ipykernel)",
   "language": "python",
   "name": "python3"
  },
  "language_info": {
   "codemirror_mode": {
    "name": "ipython",
    "version": 3
   },
   "file_extension": ".py",
   "mimetype": "text/x-python",
   "name": "python",
   "nbconvert_exporter": "python",
   "pygments_lexer": "ipython3",
   "version": "3.9.16"
  }
 },
 "nbformat": 4,
 "nbformat_minor": 5
}
